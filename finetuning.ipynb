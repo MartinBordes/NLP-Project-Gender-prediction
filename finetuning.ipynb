{
 "cells": [
  {
   "cell_type": "code",
   "execution_count": 1,
   "id": "b60ded44-4bca-45e5-a80d-df6baab7b5e0",
   "metadata": {},
   "outputs": [],
   "source": [
    "from transformers import AutoModelForSequenceClassification, AutoTokenizer\n",
    "import torch\n",
    "import pandas as pd\n",
    "import numpy as np\n",
    "from torch.utils.data import Dataset, DataLoader\n",
    "from sklearn.model_selection import train_test_split\n",
    "from sklearn.preprocessing import LabelEncoder"
   ]
  },
  {
   "cell_type": "code",
   "execution_count": 2,
   "id": "be4460fb-d7c6-4ea8-b41f-6b5dfa544fd7",
   "metadata": {},
   "outputs": [],
   "source": [
    "transcription_sex_df = pd.read_csv('data/transcriptions_with_sex.csv')\n",
    "firstname_sex_df = pd.read_csv('data/firstname_with_sex.csv', sep=\";\")"
   ]
  },
  {
   "cell_type": "markdown",
   "id": "992b69f6",
   "metadata": {},
   "source": [
    "## Créations de nouvelles instances à partir du fichier de prénoms"
   ]
  },
  {
   "cell_type": "code",
   "execution_count": 4,
   "id": "0c838b7a-1897-42f0-b9ea-69af5efedb3b",
   "metadata": {},
   "outputs": [],
   "source": [
    "def common_sex(row):\n",
    "    sex = str(np.where(row['male'] > row['female'], 'masculin', 'feminin'))\n",
    "    if sex == 'masculin':\n",
    "        proba = row['male'] / (row['female'] + row['male'])\n",
    "    else:\n",
    "        proba = row['female'] / (row['female'] + row['male'])\n",
    "    return sex, proba\n",
    "    \n",
    "firstname_sex_df['sex'], firstname_sex_df['proba'] = tuple(pd.Series(data=[t[i] for t in firstname_sex_df.apply(common_sex, axis=1)]) for i in range(len(firstname_sex_df.apply(common_sex, axis=1).iloc[0])))"
   ]
  },
  {
   "cell_type": "code",
   "execution_count": 5,
   "id": "c9f59a55-1abe-4e94-af8e-860c9c16b3b1",
   "metadata": {},
   "outputs": [],
   "source": [
    "firstname_sex_df['sentence'] = firstname_sex_df.apply(lambda row : f\"{row['firstname']} est un prénom porté à {round(100*row['proba'],2)}% par des personnes de sexe\", axis=1)"
   ]
  },
  {
   "cell_type": "code",
   "execution_count": 6,
   "id": "51445007-bb72-4ccf-b579-a1127074b424",
   "metadata": {},
   "outputs": [
    {
     "data": {
      "text/plain": [
       "'marie est un prénom porté à 99.58% par des personnes de sexe'"
      ]
     },
     "execution_count": 6,
     "metadata": {},
     "output_type": "execute_result"
    }
   ],
   "source": [
    "firstname_sex_df['sentence'][0]"
   ]
  },
  {
   "cell_type": "markdown",
   "id": "654fea9f-c9bb-458b-87b0-893c809f05fc",
   "metadata": {},
   "source": [
    "## Entraînement sans utiliser les exemples ambigus"
   ]
  },
  {
   "cell_type": "code",
   "execution_count": 33,
   "id": "4d3050b4-9d15-473f-b8dc-5b3cbec96475",
   "metadata": {},
   "outputs": [
    {
     "name": "stdout",
     "output_type": "stream",
     "text": [
      "8\n"
     ]
    }
   ],
   "source": [
    "class TextDataset(Dataset):\n",
    "    def __init__(self, texts, targets, tokenizer, max_length, label_encoder=None):\n",
    "        self.texts = texts\n",
    "        self.targets = targets\n",
    "        self.tokenizer = tokenizer\n",
    "        self.max_length = max_length\n",
    "        \n",
    "        if label_encoder is None:\n",
    "            self.label_encoder = LabelEncoder()\n",
    "            self.targets_encoded = self.label_encoder.fit_transform(targets)\n",
    "        else:\n",
    "            self.label_encoder = label_encoder\n",
    "            self.targets_encoded = self.label_encoder.transform(targets)\n",
    "    \n",
    "    def __len__(self):\n",
    "        return len(self.texts)\n",
    "    \n",
    "    def __getitem__(self, idx):\n",
    "        text = self.texts[idx]\n",
    "        target_encoded = self.targets_encoded[idx]\n",
    "        \n",
    "        inputs = self.tokenizer(text, max_length=self.max_length, truncation=True, padding='max_length', return_tensors='pt')\n",
    "        input_ids = inputs['input_ids'].squeeze(0)\n",
    "        attention_mask = inputs['attention_mask'].squeeze(0)\n",
    "        \n",
    "        return input_ids, attention_mask, torch.tensor(target_encoded) \n",
    "\n",
    "\n",
    "mapping = {'homme': 'masculin', 'femme': 'feminin', 'ambigu': 'ambigu'}\n",
    "X_train, X_test, y_train, y_test = train_test_split(transcription_sex_df['prediction'].values, transcription_sex_df['sex'].map(mapping).values, test_size=0.2)\n",
    "indices = np.where(y_train != 'ambigu')[0]\n",
    "print(len(y_train) - len(indices))\n",
    "X_train = X_train[indices]\n",
    "y_train = y_train[indices]\n",
    "X_train = list(X_train) + list(firstname_sex_df['sentence'].values)\n",
    "y_train = list(y_train) + list(firstname_sex_df['sex'].values)\n",
    "\n",
    "tokenizer = AutoTokenizer.from_pretrained('bert-base-multilingual-cased') \n",
    "max_length = 50\n",
    "\n",
    "label_encoder = LabelEncoder() \n",
    "label_encoder.fit(y_test) \n",
    "\n",
    "train_dataset = TextDataset(X_train, y_train, tokenizer, max_length, label_encoder=label_encoder)\n",
    "train_dataloader = DataLoader(train_dataset, batch_size=8, shuffle=True)\n",
    "\n",
    "test_dataset = TextDataset(X_test, y_test, tokenizer, max_length, label_encoder=label_encoder)\n",
    "test_dataloader = DataLoader(test_dataset, batch_size=8, shuffle=True)\n"
   ]
  },
  {
   "cell_type": "code",
   "execution_count": 36,
   "id": "51a9852d-721c-4bb6-84db-1d3f00ab65d3",
   "metadata": {},
   "outputs": [
    {
     "name": "stderr",
     "output_type": "stream",
     "text": [
      "Some weights of BertForSequenceClassification were not initialized from the model checkpoint at bert-base-multilingual-cased and are newly initialized: ['classifier.bias', 'classifier.weight']\n",
      "You should probably TRAIN this model on a down-stream task to be able to use it for predictions and inference.\n"
     ]
    },
    {
     "data": {
      "text/plain": [
       "BertForSequenceClassification(\n",
       "  (bert): BertModel(\n",
       "    (embeddings): BertEmbeddings(\n",
       "      (word_embeddings): Embedding(119547, 768, padding_idx=0)\n",
       "      (position_embeddings): Embedding(512, 768)\n",
       "      (token_type_embeddings): Embedding(2, 768)\n",
       "      (LayerNorm): LayerNorm((768,), eps=1e-12, elementwise_affine=True)\n",
       "      (dropout): Dropout(p=0.1, inplace=False)\n",
       "    )\n",
       "    (encoder): BertEncoder(\n",
       "      (layer): ModuleList(\n",
       "        (0-11): 12 x BertLayer(\n",
       "          (attention): BertAttention(\n",
       "            (self): BertSelfAttention(\n",
       "              (query): Linear(in_features=768, out_features=768, bias=True)\n",
       "              (key): Linear(in_features=768, out_features=768, bias=True)\n",
       "              (value): Linear(in_features=768, out_features=768, bias=True)\n",
       "              (dropout): Dropout(p=0.1, inplace=False)\n",
       "            )\n",
       "            (output): BertSelfOutput(\n",
       "              (dense): Linear(in_features=768, out_features=768, bias=True)\n",
       "              (LayerNorm): LayerNorm((768,), eps=1e-12, elementwise_affine=True)\n",
       "              (dropout): Dropout(p=0.1, inplace=False)\n",
       "            )\n",
       "          )\n",
       "          (intermediate): BertIntermediate(\n",
       "            (dense): Linear(in_features=768, out_features=3072, bias=True)\n",
       "            (intermediate_act_fn): GELUActivation()\n",
       "          )\n",
       "          (output): BertOutput(\n",
       "            (dense): Linear(in_features=3072, out_features=768, bias=True)\n",
       "            (LayerNorm): LayerNorm((768,), eps=1e-12, elementwise_affine=True)\n",
       "            (dropout): Dropout(p=0.1, inplace=False)\n",
       "          )\n",
       "        )\n",
       "      )\n",
       "    )\n",
       "    (pooler): BertPooler(\n",
       "      (dense): Linear(in_features=768, out_features=768, bias=True)\n",
       "      (activation): Tanh()\n",
       "    )\n",
       "  )\n",
       "  (dropout): Dropout(p=0.1, inplace=False)\n",
       "  (classifier): Linear(in_features=768, out_features=3, bias=True)\n",
       ")"
      ]
     },
     "execution_count": 36,
     "metadata": {},
     "output_type": "execute_result"
    }
   ],
   "source": [
    "model_name = \"bert-base-multilingual-cased\"\n",
    "model = AutoModelForSequenceClassification.from_pretrained(model_name, num_labels=3)\n",
    "\n",
    "device = torch.device(\"cuda\" if torch.cuda.is_available() else \"cpu\")\n",
    "model.to(device)"
   ]
  },
  {
   "cell_type": "code",
   "execution_count": 37,
   "id": "9e7431dc-1e20-43bb-9679-bd177868673b",
   "metadata": {},
   "outputs": [
    {
     "name": "stdout",
     "output_type": "stream",
     "text": [
      "Epoch 1/6, Average Training Loss: 0.4286242856669152 / Accuracy on the train set: 0.8004207573632539\n",
      "Epoch 2/6, Average Training Loss: 0.25552917063348995 / Accuracy on the train set: 0.8925666199158485\n",
      "Epoch 3/6, Average Training Loss: 0.18678646446560665 / Accuracy on the train set: 0.9251051893408134\n",
      "Epoch 4/6, Average Training Loss: 0.13518956766229942 / Accuracy on the train set: 0.9510518934081347\n",
      "Epoch 5/6, Average Training Loss: 0.09688296085333184 / Accuracy on the train set: 0.9652173913043478\n",
      "Epoch 6/6, Average Training Loss: 0.07139564866386458 / Accuracy on the train set: 0.9746143057503507\n"
     ]
    }
   ],
   "source": [
    "num_epochs = 6\n",
    "learning_rate = 1e-5\n",
    "optimizer = torch.optim.AdamW(model.parameters(), lr=learning_rate)\n",
    "loss_fct = torch.nn.CrossEntropyLoss()\n",
    "\n",
    "for epoch in range(num_epochs):\n",
    "    model.train()  \n",
    "    total_loss = 0\n",
    "    total_correct = 0\n",
    "    total_samples = 0\n",
    "    \n",
    "    for batch in train_dataloader:\n",
    "        input_ids, attention_mask, labels = batch\n",
    "        \n",
    "        input_ids = input_ids.to(device)\n",
    "        attention_mask = attention_mask.to(device)\n",
    "        labels = labels.to(device)\n",
    "        \n",
    "        optimizer.zero_grad()\n",
    "        \n",
    "        outputs = model(input_ids, attention_mask=attention_mask)\n",
    "        logits = outputs.logits\n",
    "        \n",
    "        loss = loss_fct(logits, labels)\n",
    "        \n",
    "        total_loss += loss.item()\n",
    "\n",
    "        _, predicted = torch.max(logits, 1)  \n",
    "        \n",
    "        total_correct += (predicted == labels).sum().item()\n",
    "        total_samples += labels.size(0)\n",
    "        \n",
    "        loss.backward()\n",
    "        optimizer.step()\n",
    "        \n",
    "    avg_train_loss = total_loss / len(train_dataloader)\n",
    "    accuracy = total_correct / total_samples\n",
    "    print(f\"Epoch {epoch + 1}/{num_epochs}, Average Training Loss: {avg_train_loss} / Accuracy on the train set: {accuracy}\")\n"
   ]
  },
  {
   "cell_type": "code",
   "execution_count": 38,
   "id": "f66742bb-46ca-4edc-9588-810737be6361",
   "metadata": {},
   "outputs": [
    {
     "name": "stdout",
     "output_type": "stream",
     "text": [
      "Accuracy on the test set: 0.9387755102040817\n",
      "Average Loss on the test set: 0.23971509115238274\n"
     ]
    }
   ],
   "source": [
    "model.eval()\n",
    "total_correct = 0\n",
    "total_samples = 0\n",
    "total_loss = 0\n",
    "\n",
    "loss_fct = torch.nn.CrossEntropyLoss()  \n",
    "\n",
    "with torch.no_grad():\n",
    "    for batch in test_dataloader:\n",
    "        input_ids, attention_mask, labels = batch\n",
    "        \n",
    "        input_ids = input_ids.to(device)\n",
    "        attention_mask = attention_mask.to(device)\n",
    "        labels = labels.to(device)\n",
    "        \n",
    "        outputs = model(input_ids, attention_mask=attention_mask)\n",
    "        logits = outputs.logits\n",
    "        labels = labels.to(torch.long)\n",
    "        \n",
    "        loss = loss_fct(logits, labels)\n",
    "        \n",
    "        total_loss += loss.item()\n",
    "        \n",
    "        _, predicted = torch.max(logits, 1) \n",
    "        \n",
    "        total_correct += (predicted == labels).sum().item()\n",
    "        total_samples += labels.size(0)\n",
    "\n",
    "accuracy = total_correct / total_samples\n",
    "average_loss = total_loss / len(test_dataloader)\n",
    "print(f\"Accuracy on the test set: {accuracy}\")\n",
    "print(f\"Average Loss on the test set: {average_loss}\")\n"
   ]
  },
  {
   "cell_type": "markdown",
   "id": "792fae9b-f366-4d73-894c-9dff15134bbf",
   "metadata": {},
   "source": [
    "### En gelant les poids initialisés du BERT (sauf le classifier évidemment)"
   ]
  },
  {
   "cell_type": "code",
   "execution_count": 16,
   "id": "d3e89d18-4470-4b71-b1a8-c8accaa4ddfd",
   "metadata": {},
   "outputs": [
    {
     "name": "stderr",
     "output_type": "stream",
     "text": [
      "Some weights of BertForSequenceClassification were not initialized from the model checkpoint at bert-base-multilingual-cased and are newly initialized: ['classifier.bias', 'classifier.weight']\n",
      "You should probably TRAIN this model on a down-stream task to be able to use it for predictions and inference.\n"
     ]
    }
   ],
   "source": [
    "model_name = \"bert-base-multilingual-cased\"\n",
    "model = AutoModelForSequenceClassification.from_pretrained(model_name, num_labels=3)\n",
    "device = torch.device(\"cuda\" if torch.cuda.is_available() else \"cpu\")\n",
    "model.to(device)\n",
    "\n",
    "for name, param in model.named_parameters():\n",
    "    if 'classifier' not in name:\n",
    "        param.requires_grad = False"
   ]
  },
  {
   "cell_type": "code",
   "execution_count": 17,
   "id": "4d6afbd3-05df-45b3-9235-95d54ddfd315",
   "metadata": {},
   "outputs": [
    {
     "name": "stdout",
     "output_type": "stream",
     "text": [
      "Epoch 1/8, Average Training Loss: 0.894007900637896 / Accuracy on the train set: 0.48835904628330995\n",
      "Epoch 2/8, Average Training Loss: 0.7601979710996953 / Accuracy on the train set: 0.49663394109396913\n",
      "Epoch 3/8, Average Training Loss: 0.7304985786499999 / Accuracy on the train set: 0.5046283309957924\n",
      "Epoch 4/8, Average Training Loss: 0.7210308641462583 / Accuracy on the train set: 0.5074333800841515\n",
      "Epoch 5/8, Average Training Loss: 0.7166003268796767 / Accuracy on the train set: 0.520617110799439\n",
      "Epoch 6/8, Average Training Loss: 0.7108411114044788 / Accuracy on the train set: 0.5230014025245442\n",
      "Epoch 7/8, Average Training Loss: 0.709268730384352 / Accuracy on the train set: 0.514586255259467\n",
      "Epoch 8/8, Average Training Loss: 0.7078663926621723 / Accuracy on the train set: 0.5200561009817671\n"
     ]
    }
   ],
   "source": [
    "num_epochs = 8\n",
    "learning_rate = 1e-5\n",
    "optimizer = torch.optim.AdamW(model.parameters(), lr=learning_rate)\n",
    "loss_fct = torch.nn.CrossEntropyLoss()\n",
    "\n",
    "for epoch in range(num_epochs):\n",
    "    model.train() \n",
    "    total_loss = 0\n",
    "    total_correct = 0\n",
    "    total_samples = 0\n",
    "    \n",
    "    for batch in train_dataloader:\n",
    "        input_ids, attention_mask, labels = batch\n",
    "        \n",
    "        input_ids = input_ids.to(device)\n",
    "        attention_mask = attention_mask.to(device)\n",
    "        labels = labels.to(device)\n",
    "        \n",
    "        optimizer.zero_grad()\n",
    "        \n",
    "        outputs = model(input_ids, attention_mask=attention_mask)\n",
    "        logits = outputs.logits\n",
    "        \n",
    "        loss = loss_fct(logits, labels)\n",
    "        \n",
    "        total_loss += loss.item()\n",
    "\n",
    "        _, predicted = torch.max(logits, 1)  \n",
    "        \n",
    "        total_correct += (predicted == labels).sum().item()\n",
    "        total_samples += labels.size(0)\n",
    "        \n",
    "        loss.backward()\n",
    "        optimizer.step()\n",
    "        \n",
    "    avg_train_loss = total_loss / len(train_dataloader)\n",
    "    accuracy = total_correct / total_samples\n",
    "    print(f\"Epoch {epoch + 1}/{num_epochs}, Average Training Loss: {avg_train_loss} / Accuracy on the train set: {accuracy}\")\n"
   ]
  },
  {
   "cell_type": "code",
   "execution_count": 18,
   "id": "82a514db-9e49-4f3d-ab6b-c0fd6f7c1ded",
   "metadata": {},
   "outputs": [
    {
     "name": "stdout",
     "output_type": "stream",
     "text": [
      "Accuracy on the test set: 0.5102040816326531\n",
      "Average Loss on the test set: 0.7926105090550014\n"
     ]
    }
   ],
   "source": [
    "model.eval()  \n",
    "total_correct = 0\n",
    "total_samples = 0\n",
    "total_loss = 0\n",
    "\n",
    "with torch.no_grad():\n",
    "    for batch in test_dataloader:\n",
    "        input_ids, attention_mask, labels = batch\n",
    "        \n",
    "        input_ids = input_ids.to(device)\n",
    "        attention_mask = attention_mask.to(device)\n",
    "        labels = labels.to(device)\n",
    "        \n",
    "        outputs = model(input_ids, attention_mask=attention_mask)\n",
    "        logits = outputs.logits\n",
    "        \n",
    "        loss_fct = torch.nn.CrossEntropyLoss()\n",
    "        loss = loss_fct(logits, labels)\n",
    "        \n",
    "        total_loss += loss.item()\n",
    "        \n",
    "        _, predicted = torch.max(logits, 1)\n",
    "        \n",
    "        total_correct += (predicted == labels).sum().item()\n",
    "        total_samples += labels.size(0)\n",
    "\n",
    "accuracy = total_correct / total_samples\n",
    "average_loss = total_loss / len(test_dataloader)\n",
    "print(f\"Accuracy on the test set: {accuracy}\")\n",
    "print(f\"Average Loss on the test set: {average_loss}\")\n"
   ]
  },
  {
   "cell_type": "markdown",
   "id": "29d3ebb6-ad36-405c-a76d-96d2ca443b2a",
   "metadata": {},
   "source": [
    "## Entraînement avec les exemples ambigus"
   ]
  },
  {
   "cell_type": "code",
   "execution_count": 25,
   "id": "9f478ece-11ff-4003-87c4-b31fed56bea8",
   "metadata": {},
   "outputs": [],
   "source": [
    "class TextDataset(Dataset):\n",
    "    def __init__(self, texts, targets, tokenizer, max_length, label_encoder=None):\n",
    "        self.texts = texts\n",
    "        self.targets = targets\n",
    "        self.tokenizer = tokenizer\n",
    "        self.max_length = max_length\n",
    "        \n",
    "        if label_encoder is None:\n",
    "            self.label_encoder = LabelEncoder()\n",
    "            self.targets_encoded = self.label_encoder.fit_transform(targets)\n",
    "        else:\n",
    "            self.label_encoder = label_encoder\n",
    "            self.targets_encoded = self.label_encoder.transform(targets)\n",
    "    \n",
    "    def __len__(self):\n",
    "        return len(self.texts)\n",
    "    \n",
    "    def __getitem__(self, idx):\n",
    "        text = self.texts[idx]\n",
    "        target_encoded = self.targets_encoded[idx]\n",
    "        \n",
    "        inputs = self.tokenizer(text, max_length=self.max_length, truncation=True, padding='max_length', return_tensors='pt')\n",
    "        input_ids = inputs['input_ids'].squeeze(0)\n",
    "        attention_mask = inputs['attention_mask'].squeeze(0)\n",
    "        \n",
    "        return input_ids, attention_mask, torch.tensor(target_encoded)  \n",
    "    \n",
    "\n",
    "mapping = {'homme': 'masculin', 'femme': 'feminin', 'ambigu': 'ambigu'}\n",
    "X_train, X_test, y_train, y_test = train_test_split(transcription_sex_df['prediction'].values, transcription_sex_df['sex'].map(mapping).values, test_size=0.2)\n",
    "X_train = list(X_train) + list(firstname_sex_df['sentence'].values)\n",
    "y_train = list(y_train) + list(firstname_sex_df['sex'].values)\n",
    "\n",
    "tokenizer = AutoTokenizer.from_pretrained('bert-base-multilingual-cased') \n",
    "max_length = 50\n",
    "\n",
    "label_encoder = LabelEncoder() \n",
    "label_encoder.fit(y_test)  \n",
    "\n",
    "train_dataset = TextDataset(X_train, y_train, tokenizer, max_length, label_encoder=label_encoder)\n",
    "train_dataloader = DataLoader(train_dataset, batch_size=8, shuffle=True)\n",
    "\n",
    "test_dataset = TextDataset(X_test, y_test, tokenizer, max_length, label_encoder=label_encoder)\n",
    "test_dataloader = DataLoader(test_dataset, batch_size=8, shuffle=True)\n"
   ]
  },
  {
   "cell_type": "code",
   "execution_count": 26,
   "id": "d40e56eb-fa3c-4609-9f83-77ca99fdde80",
   "metadata": {},
   "outputs": [
    {
     "name": "stderr",
     "output_type": "stream",
     "text": [
      "Some weights of BertForSequenceClassification were not initialized from the model checkpoint at bert-base-multilingual-cased and are newly initialized: ['classifier.bias', 'classifier.weight']\n",
      "You should probably TRAIN this model on a down-stream task to be able to use it for predictions and inference.\n"
     ]
    },
    {
     "data": {
      "text/plain": [
       "BertForSequenceClassification(\n",
       "  (bert): BertModel(\n",
       "    (embeddings): BertEmbeddings(\n",
       "      (word_embeddings): Embedding(119547, 768, padding_idx=0)\n",
       "      (position_embeddings): Embedding(512, 768)\n",
       "      (token_type_embeddings): Embedding(2, 768)\n",
       "      (LayerNorm): LayerNorm((768,), eps=1e-12, elementwise_affine=True)\n",
       "      (dropout): Dropout(p=0.1, inplace=False)\n",
       "    )\n",
       "    (encoder): BertEncoder(\n",
       "      (layer): ModuleList(\n",
       "        (0-11): 12 x BertLayer(\n",
       "          (attention): BertAttention(\n",
       "            (self): BertSelfAttention(\n",
       "              (query): Linear(in_features=768, out_features=768, bias=True)\n",
       "              (key): Linear(in_features=768, out_features=768, bias=True)\n",
       "              (value): Linear(in_features=768, out_features=768, bias=True)\n",
       "              (dropout): Dropout(p=0.1, inplace=False)\n",
       "            )\n",
       "            (output): BertSelfOutput(\n",
       "              (dense): Linear(in_features=768, out_features=768, bias=True)\n",
       "              (LayerNorm): LayerNorm((768,), eps=1e-12, elementwise_affine=True)\n",
       "              (dropout): Dropout(p=0.1, inplace=False)\n",
       "            )\n",
       "          )\n",
       "          (intermediate): BertIntermediate(\n",
       "            (dense): Linear(in_features=768, out_features=3072, bias=True)\n",
       "            (intermediate_act_fn): GELUActivation()\n",
       "          )\n",
       "          (output): BertOutput(\n",
       "            (dense): Linear(in_features=3072, out_features=768, bias=True)\n",
       "            (LayerNorm): LayerNorm((768,), eps=1e-12, elementwise_affine=True)\n",
       "            (dropout): Dropout(p=0.1, inplace=False)\n",
       "          )\n",
       "        )\n",
       "      )\n",
       "    )\n",
       "    (pooler): BertPooler(\n",
       "      (dense): Linear(in_features=768, out_features=768, bias=True)\n",
       "      (activation): Tanh()\n",
       "    )\n",
       "  )\n",
       "  (dropout): Dropout(p=0.1, inplace=False)\n",
       "  (classifier): Linear(in_features=768, out_features=3, bias=True)\n",
       ")"
      ]
     },
     "execution_count": 26,
     "metadata": {},
     "output_type": "execute_result"
    }
   ],
   "source": [
    "model_name = \"bert-base-multilingual-cased\"\n",
    "model = AutoModelForSequenceClassification.from_pretrained(model_name, num_labels=3)\n",
    "\n",
    "device = torch.device(\"cuda\" if torch.cuda.is_available() else \"cpu\")\n",
    "model.to(device)"
   ]
  },
  {
   "cell_type": "code",
   "execution_count": 27,
   "id": "a99aa869-ddba-44ed-9845-ae9222b5475d",
   "metadata": {},
   "outputs": [
    {
     "name": "stdout",
     "output_type": "stream",
     "text": [
      "Epoch 1/6, Average Training Loss: 0.4077452677974742 / Accuracy on the train set: 0.8260016811431774\n",
      "Epoch 2/6, Average Training Loss: 0.26845205455501164 / Accuracy on the train set: 0.891846455589801\n",
      "Epoch 3/6, Average Training Loss: 0.21105752439339293 / Accuracy on the train set: 0.9159428411319698\n",
      "Epoch 4/6, Average Training Loss: 0.15650675323070104 / Accuracy on the train set: 0.9380778929672177\n",
      "Epoch 5/6, Average Training Loss: 0.11234018444928391 / Accuracy on the train set: 0.9564303726534044\n",
      "Epoch 6/6, Average Training Loss: 0.090800859912065 / Accuracy on the train set: 0.9662370411880078\n"
     ]
    }
   ],
   "source": [
    "num_epochs = 6\n",
    "learning_rate = 1e-5\n",
    "optimizer = torch.optim.AdamW(model.parameters(), lr=learning_rate)\n",
    "loss_fct = torch.nn.CrossEntropyLoss()\n",
    "\n",
    "for epoch in range(num_epochs):\n",
    "    model.train()  \n",
    "    total_loss = 0\n",
    "    total_correct = 0\n",
    "    total_samples = 0\n",
    "    \n",
    "    for batch in train_dataloader:\n",
    "        input_ids, attention_mask, labels = batch\n",
    "        \n",
    "        input_ids = input_ids.to(device)\n",
    "        attention_mask = attention_mask.to(device)\n",
    "        labels = labels.to(device)\n",
    "        \n",
    "        optimizer.zero_grad()\n",
    "        \n",
    "        outputs = model(input_ids, attention_mask=attention_mask)\n",
    "        logits = outputs.logits\n",
    "        \n",
    "        loss = loss_fct(logits, labels)\n",
    "        \n",
    "        total_loss += loss.item()\n",
    "\n",
    "        _, predicted = torch.max(logits, 1)\n",
    "        \n",
    "        total_correct += (predicted == labels).sum().item()\n",
    "        total_samples += labels.size(0)\n",
    "        \n",
    "        loss.backward()\n",
    "        optimizer.step()\n",
    "        \n",
    "    avg_train_loss = total_loss / len(train_dataloader)\n",
    "    accuracy = total_correct / total_samples\n",
    "    print(f\"Epoch {epoch + 1}/{num_epochs}, Average Training Loss: {avg_train_loss} / Accuracy on the train set: {accuracy}\")\n"
   ]
  },
  {
   "cell_type": "code",
   "execution_count": 28,
   "id": "fb4ae95e-9e12-42fc-862f-826076fdd20f",
   "metadata": {},
   "outputs": [
    {
     "name": "stdout",
     "output_type": "stream",
     "text": [
      "Accuracy on the test set: 0.9795918367346939\n",
      "Average Loss on the test set: 0.08515478331329566\n"
     ]
    }
   ],
   "source": [
    "model.eval() \n",
    "total_correct = 0\n",
    "total_samples = 0\n",
    "total_loss = 0\n",
    "\n",
    "loss_fct = torch.nn.CrossEntropyLoss() \n",
    "\n",
    "with torch.no_grad():\n",
    "    for batch in test_dataloader:\n",
    "        input_ids, attention_mask, labels = batch\n",
    "        \n",
    "        input_ids = input_ids.to(device)\n",
    "        attention_mask = attention_mask.to(device)\n",
    "        labels = labels.to(device)\n",
    "        \n",
    "        outputs = model(input_ids, attention_mask=attention_mask)\n",
    "        logits = outputs.logits\n",
    "        labels = labels.to(torch.long)\n",
    "        \n",
    "        loss = loss_fct(logits, labels)\n",
    "        \n",
    "        total_loss += loss.item()\n",
    "        \n",
    "        _, predicted = torch.max(logits, 1)\n",
    "        \n",
    "        total_correct += (predicted == labels).sum().item()\n",
    "        total_samples += labels.size(0)\n",
    "\n",
    "accuracy = total_correct / total_samples\n",
    "average_loss = total_loss / len(test_dataloader)\n",
    "print(f\"Accuracy on the test set: {accuracy}\")\n",
    "print(f\"Average Loss on the test set: {average_loss}\")\n"
   ]
  }
 ],
 "metadata": {
  "kernelspec": {
   "display_name": "Python 3 (ipykernel)",
   "language": "python",
   "name": "python3"
  },
  "language_info": {
   "codemirror_mode": {
    "name": "ipython",
    "version": 3
   },
   "file_extension": ".py",
   "mimetype": "text/x-python",
   "name": "python",
   "nbconvert_exporter": "python",
   "pygments_lexer": "ipython3",
   "version": "3.11.6"
  }
 },
 "nbformat": 4,
 "nbformat_minor": 5
}
