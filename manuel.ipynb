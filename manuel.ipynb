{
 "cells": [
  {
   "cell_type": "code",
   "execution_count": 1,
   "metadata": {},
   "outputs": [],
   "source": [
    "import pandas as pd\n",
    "import numpy as np"
   ]
  },
  {
   "cell_type": "code",
   "execution_count": 4,
   "metadata": {},
   "outputs": [],
   "source": [
    "transcriptions = pd.read_csv('data/transcriptions_with_sex.csv', sep=',')"
   ]
  },
  {
   "cell_type": "code",
   "execution_count": 4,
   "metadata": {},
   "outputs": [],
   "source": [
    "sample = transcriptions.sample(29)"
   ]
  },
  {
   "cell_type": "code",
   "execution_count": 6,
   "metadata": {},
   "outputs": [
    {
     "data": {
      "text/plain": [
       "['nom: Brulier prénom: Denis date_naissance: 50 lieux_naissance: agens de frataise relation: chef ',\n",
       " 'nom: Chatel prénom: Jeanne date_naissance: 52 lieux_naissance: Proyustien relation: Ch ',\n",
       " 'nom: Glachet prénom: Jeanne date_naissance: 1804 lieux_naissance: \" relation: se fonmer ',\n",
       " 'nom: Collin prénom: Marguerite date_naissance: 38 profession: femme profession: patron ',\n",
       " 'nom: Loyer prénom: Georges date_naissance: 17 lieux_naissance: P ',\n",
       " 'nom: Demay prénom: Joséphine date_naissance: 27 lieux_naissance: Sc lieux_naissance: iant état_civil: M ',\n",
       " 'nom: Berthon prénom: Nicolas date_naissance: 1110e relation: fils ',\n",
       " 'nom: Péron prénom: Pierre date_naissance: 1879 lieux_naissance: St Fourcais (S Français relation: chef profession: culsinière employeur: patron ',\n",
       " 'nom: Derroyies prénom: Léonie date_naissance: 55 lieux_naissance: Aentin relation: Chef ',\n",
       " 'nom: Lécoret prénom: Jean date_naissance: 12 lieux_naissance: P relation: a ',\n",
       " 'nom: Dumont prénom: Marie date_naissance: 1892 lieux_naissance: id relation: fille ',\n",
       " 'nom: Gaudiat prénom: Elisabeth date_naissance: 28 lieux_naissance: (lombeuse relation: chef ',\n",
       " 'nom: Leseure prénom: Jacques date_naissance: 55 lieux_naissance: Savo ',\n",
       " 'nom: Laurent prénom: Claude date_naissance: 57 relation: chef ',\n",
       " 'nom: Lacroix prénom: Eugène date_naissance: 1204 lieux_naissance: id relation: enfant ',\n",
       " 'nom: Grandchamp prénom: Gabriel date_naissance: 56 lieux_naissance: chef profession: enttinateur ',\n",
       " \"nom: Lavocat prénom: Marie date_naissance: 1875 lieux_naissance: Rigny profession: '' \",\n",
       " 'nom: d° prénom: Jean date_naissance: 1913 lieux_naissance: P relation: F ',\n",
       " 'nom: Alvie prénom: Ernest date_naissance: 13 lieux_naissance: P relation: B ',\n",
       " 'nom: Ceulon prénom: Louis date_naissance: 0 lieux_naissance: P relation: D ',\n",
       " 'nom: Charrier prénom: Marguerite date_naissance: 81 lieux_naissance: épouse relation: coms prof ',\n",
       " \"nom: Fleury prénom: Angloise date_naissance: 7 44 lieux_naissance: id état_civil: ' \",\n",
       " 'nom: Cotte prénom: Jeanne date_naissance: 59 lieux_naissance: A état_civil: V relation: P ',\n",
       " 'nom: Pamouche prénom: Jean date_naissance: 25 lieux_naissance: chef relation: cultinière ',\n",
       " 'nom: Farjolle prénom: Gabriel date_naissance: 60 lieux_naissance: id profession: Turaliste employeur: patron ',\n",
       " \"nom: Dumont prénom: Jeanne date_naissance: 1877 lieux_naissance: Hte Liviers (s it ) relation: femme profession: ' \",\n",
       " 'nom: Eruffant prénom: Pierre date_naissance: 72 lieux_naissance: d relation: chausne ',\n",
       " 'nom: Léron prénom: François date_naissance: 1907 lieux_naissance: Coulanger relation: fils ',\n",
       " 'nom: Lacroix prénom: Pierre date_naissance: 3 8n lieux_naissance: f  ullle relation: chef ']"
      ]
     },
     "execution_count": 6,
     "metadata": {},
     "output_type": "execute_result"
    }
   ],
   "source": [
    "list(sample['prediction'])"
   ]
  },
  {
   "cell_type": "code",
   "execution_count": 23,
   "metadata": {},
   "outputs": [],
   "source": [
    "manual_pred = ['homme', 'femme', 'femme', 'femme', 'homme', 'femme', 'homme', 'homme', 'femme', 'homme', 'femme', 'femme', 'homme', 'homme', 'homme', 'homme', 'femme', 'homme', 'homme', 'homme', 'femme', 'femme', 'femme', 'homme', 'homme', 'femme', 'homme', 'homme', 'homme']"
   ]
  },
  {
   "cell_type": "code",
   "execution_count": 9,
   "metadata": {},
   "outputs": [],
   "source": [
    "true = list(sample['sex'])"
   ]
  },
  {
   "cell_type": "code",
   "execution_count": 25,
   "metadata": {},
   "outputs": [
    {
     "data": {
      "text/plain": [
       "1"
      ]
     },
     "execution_count": 25,
     "metadata": {},
     "output_type": "execute_result"
    }
   ],
   "source": [
    "sum(1 for x, y in zip(manual_pred, true) if x != y)"
   ]
  },
  {
   "cell_type": "code",
   "execution_count": 3,
   "metadata": {},
   "outputs": [
    {
     "name": "stdout",
     "output_type": "stream",
     "text": [
      "La précision de la prédiction manuelle est de : 96.55%\n"
     ]
    }
   ],
   "source": [
    "print(f\"La précision de la prédiction manuelle est de : {round(100*28/29,2)}%\")"
   ]
  }
 ],
 "metadata": {
  "kernelspec": {
   "display_name": "base",
   "language": "python",
   "name": "python3"
  },
  "language_info": {
   "codemirror_mode": {
    "name": "ipython",
    "version": 3
   },
   "file_extension": ".py",
   "mimetype": "text/x-python",
   "name": "python",
   "nbconvert_exporter": "python",
   "pygments_lexer": "ipython3",
   "version": "3.11.4"
  }
 },
 "nbformat": 4,
 "nbformat_minor": 2
}
