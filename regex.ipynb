{
 "cells": [
  {
   "cell_type": "code",
   "execution_count": 89,
   "metadata": {},
   "outputs": [],
   "source": [
    "import pandas as pd\n",
    "import numpy as np"
   ]
  },
  {
   "cell_type": "code",
   "execution_count": 90,
   "metadata": {},
   "outputs": [],
   "source": [
    "firstname = pd.read_csv('data/firstname_with_sex.csv', sep=';')\n",
    "transcriptions = pd.read_csv('data/transcriptions_with_sex.csv', sep=',')"
   ]
  },
  {
   "cell_type": "code",
   "execution_count": 91,
   "metadata": {},
   "outputs": [],
   "source": [
    "transcriptions = transcriptions[['prediction','sex']]"
   ]
  },
  {
   "cell_type": "markdown",
   "metadata": {},
   "source": [
    "## Prénom seulement"
   ]
  },
  {
   "cell_type": "markdown",
   "metadata": {},
   "source": [
    "### En utilisant seulement le fichier des prénoms"
   ]
  },
  {
   "cell_type": "code",
   "execution_count": 92,
   "metadata": {},
   "outputs": [],
   "source": [
    "import re\n",
    "regex_prenom = r\"prénom:\\s*([\\wéèêëîïôöûüàâäÉÈÊËÎÏÔÖÛÜÀÂÄ'-]+(?:\\s+[\\wéèêëîïôöûüàâäÉÈÊËÎÏÔÖÛÜÀÂÄ'-]+)*)(?=\\s+date|\\s+lieux| )\"\n",
    "\n",
    "transcriptions['prenom_pred'] = transcriptions['prediction'].apply(lambda x: re.search(regex_prenom, x).group(1).lower() if re.search(regex_prenom, x) else '')"
   ]
  },
  {
   "cell_type": "code",
   "execution_count": 93,
   "metadata": {},
   "outputs": [],
   "source": [
    "transcriptions = pd.merge(transcriptions, firstname, left_on='prenom_pred', right_on='firstname', how='left')\n",
    "\n",
    "transcriptions['prediction_sex'] = np.where(transcriptions['male'] > 3*transcriptions['female'], 'homme', np.where(3*transcriptions['male'] < transcriptions['female'], 'femme', 'ambigu'))"
   ]
  },
  {
   "cell_type": "code",
   "execution_count": 94,
   "metadata": {},
   "outputs": [
    {
     "name": "stdout",
     "output_type": "stream",
     "text": [
      "La précision du modèle se basant sur le fichier des prénoms est de : 81.33 %\n"
     ]
    }
   ],
   "source": [
    "accuracy = sum(1 for x, y in zip(transcriptions['prediction_sex'], transcriptions['sex']) if x == y) / len(transcriptions)\n",
    "\n",
    "print(f\"La précision du modèle se basant sur le fichier des prénoms est de : {round(100*accuracy,2)} %\")"
   ]
  },
  {
   "cell_type": "markdown",
   "metadata": {},
   "source": [
    "### En ajoutant un détecteur de genre"
   ]
  },
  {
   "cell_type": "code",
   "execution_count": 95,
   "metadata": {},
   "outputs": [],
   "source": [
    "## !pip install gender-guesser"
   ]
  },
  {
   "cell_type": "code",
   "execution_count": 96,
   "metadata": {},
   "outputs": [],
   "source": [
    "import gender_guesser.detector as gender"
   ]
  },
  {
   "cell_type": "code",
   "execution_count": 97,
   "metadata": {},
   "outputs": [],
   "source": [
    "d = gender.Detector(case_sensitive=False)\n",
    "def predict_gender(row):\n",
    "    if pd.isna(row['firstname']):\n",
    "        return d.get_gender(row['prenom_pred'], u'france')\n",
    "    else:\n",
    "        return row['prediction_sex']\n",
    "\n",
    "transcriptions['prediction_sex'] = transcriptions.apply(predict_gender, axis=1)\n",
    "\n",
    "transcriptions['temp_prediction_sex'] = transcriptions['prediction_sex'].replace(['unknown','andy'], 'ambigu')\n",
    "transcriptions['temp_prediction_sex'] = transcriptions['temp_prediction_sex'].replace('male', 'homme')\n",
    "transcriptions['temp_prediction_sex'] = transcriptions['temp_prediction_sex'].replace('female', 'femme')\n",
    "\n",
    "transcriptions['prediction_sex'] = transcriptions['prediction_sex'].replace('andy', 'ambigu')\n",
    "transcriptions['prediction_sex'] = transcriptions['prediction_sex'].replace('male', 'homme')\n",
    "transcriptions['prediction_sex'] = transcriptions['prediction_sex'].replace('female', 'femme')"
   ]
  },
  {
   "cell_type": "code",
   "execution_count": 98,
   "metadata": {},
   "outputs": [
    {
     "name": "stdout",
     "output_type": "stream",
     "text": [
      "La précision du modèle en rajoutant le package gender-guesser est de : 81.74 %\n"
     ]
    }
   ],
   "source": [
    "accuracy = sum(1 for x, y in zip(transcriptions['temp_prediction_sex'], transcriptions['sex']) if x == y) / len(transcriptions)\n",
    "\n",
    "print(f\"La précision du modèle en rajoutant le package gender-guesser est de : {round(100*accuracy,2)} %\")"
   ]
  },
  {
   "cell_type": "code",
   "execution_count": 99,
   "metadata": {},
   "outputs": [],
   "source": [
    "transcriptions.drop(columns=['temp_prediction_sex'], inplace=True)"
   ]
  },
  {
   "cell_type": "markdown",
   "metadata": {},
   "source": [
    "## En cherchant le prénom le plus proche dans le fichier des prénoms"
   ]
  },
  {
   "cell_type": "code",
   "execution_count": 101,
   "metadata": {},
   "outputs": [],
   "source": [
    "## !pip install fuzzywuzzy"
   ]
  },
  {
   "cell_type": "code",
   "execution_count": 102,
   "metadata": {},
   "outputs": [],
   "source": [
    "from fuzzywuzzy import fuzz"
   ]
  },
  {
   "cell_type": "code",
   "execution_count": 103,
   "metadata": {},
   "outputs": [],
   "source": [
    "choices = list(firstname['firstname'])\n",
    "\n",
    "def pick_closest_firstname(target_name, choices):\n",
    "    max_score = -1\n",
    "    closest_name = None\n",
    "\n",
    "    for name in choices:\n",
    "        score = fuzz.ratio(target_name, name)\n",
    "        if score > max_score:\n",
    "            max_score = score\n",
    "            closest_name = name\n",
    "\n",
    "    return closest_name\n",
    "\n",
    "def change_firstname(row):\n",
    "    if row['prediction_sex'] == 'unknown':\n",
    "        return pick_closest_firstname(row['prenom_pred'], choices)\n",
    "    else:\n",
    "        return row['prenom_pred']\n",
    "    \n",
    "transcriptions['prenom_pred'] = transcriptions.apply(change_firstname, axis=1)\n"
   ]
  },
  {
   "cell_type": "code",
   "execution_count": 104,
   "metadata": {},
   "outputs": [],
   "source": [
    "transcriptions = pd.merge(transcriptions[['prediction', 'sex', 'prenom_pred','prediction_sex']], firstname, left_on='prenom_pred', right_on='firstname', how='left')\n",
    "\n",
    "def change_prediction(row):\n",
    "    if row['prediction_sex'] == 'unknown':\n",
    "        return np.where(row['male'] > 3*row['female'], 'homme', np.where(3*row['male'] < row['female'], 'femme', 'ambigu'))\n",
    "    else:\n",
    "        return row['prediction_sex']\n",
    "\n",
    "\n",
    "transcriptions['prediction_sex'] = transcriptions.apply(change_prediction, axis=1)"
   ]
  },
  {
   "cell_type": "code",
   "execution_count": 105,
   "metadata": {},
   "outputs": [
    {
     "name": "stdout",
     "output_type": "stream",
     "text": [
      "La précision du modèle en rajoutant le package fuzzywuzzy est de : 89.21 %\n"
     ]
    }
   ],
   "source": [
    "accuracy = sum(1 for x, y in zip(transcriptions['prediction_sex'], transcriptions['sex']) if x == y) / len(transcriptions)\n",
    "\n",
    "print(f\"La précision du modèle en rajoutant le package fuzzywuzzy est de : {round(100*accuracy,2)} %\")"
   ]
  },
  {
   "cell_type": "markdown",
   "metadata": {},
   "source": [
    "## Avec la relation également"
   ]
  },
  {
   "cell_type": "code",
   "execution_count": 106,
   "metadata": {},
   "outputs": [],
   "source": [
    "regex_relation = r\"relation:\\s*([\\w\\s'-]+)(?=\\s+employeur|\\s+profession|\\s+date_naissance|\\s+lieux_naissance|$)\"\n",
    "\n",
    "transcriptions['relation'] = transcriptions['prediction'].apply(lambda x: re.search(regex_relation, x).group(1) if re.search(regex_relation, x) else '')"
   ]
  },
  {
   "cell_type": "code",
   "execution_count": 107,
   "metadata": {},
   "outputs": [],
   "source": [
    "choices = ['fils', 'fille', 'femme', 'belle-mère']\n",
    "\n",
    "def pick_closest_relation(target_name, choices):\n",
    "    max_score = -1\n",
    "    closest_relation = None\n",
    "\n",
    "    for name in choices:\n",
    "        score = fuzz.ratio(target_name, name)\n",
    "        if score > max_score:\n",
    "            max_score = score\n",
    "            closest_relation = name\n",
    "\n",
    "    return closest_relation, max_score\n",
    "\n",
    "def change_relation(row):\n",
    "    closest_relation, max_score = pick_closest_relation(row['relation'], choices)\n",
    "    if max_score > 70:\n",
    "        if closest_relation == 'fils':\n",
    "            return 'homme'\n",
    "        else:\n",
    "            return 'femme'\n",
    "    else:\n",
    "        return row['prenom_pred']\n",
    "    \n",
    "transcriptions['prenom_pred'] = transcriptions.apply(change_relation, axis=1)\n",
    "\n"
   ]
  },
  {
   "cell_type": "code",
   "execution_count": 108,
   "metadata": {},
   "outputs": [
    {
     "name": "stdout",
     "output_type": "stream",
     "text": [
      "La précision du modèle en rajoutant la relation est de : 89.21 %\n"
     ]
    }
   ],
   "source": [
    "accuracy = sum(1 for x, y in zip(transcriptions['prediction_sex'], transcriptions['sex']) if x == y) / len(transcriptions)\n",
    "\n",
    "print(f\"La précision du modèle en rajoutant la relation est de : {round(100*accuracy,2)} %\")"
   ]
  }
 ],
 "metadata": {
  "kernelspec": {
   "display_name": "base",
   "language": "python",
   "name": "python3"
  },
  "language_info": {
   "codemirror_mode": {
    "name": "ipython",
    "version": 3
   },
   "file_extension": ".py",
   "mimetype": "text/x-python",
   "name": "python",
   "nbconvert_exporter": "python",
   "pygments_lexer": "ipython3",
   "version": "3.11.4"
  }
 },
 "nbformat": 4,
 "nbformat_minor": 2
}
