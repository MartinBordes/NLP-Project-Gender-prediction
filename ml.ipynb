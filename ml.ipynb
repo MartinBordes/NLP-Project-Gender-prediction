{
 "cells": [
  {
   "cell_type": "code",
   "execution_count": 1,
   "metadata": {},
   "outputs": [],
   "source": [
    "import pandas as pd\n",
    "import numpy as np\n",
    "from sklearn.feature_extraction.text import TfidfVectorizer\n",
    "from sklearn.linear_model import LogisticRegression\n",
    "from sklearn.svm import SVC\n",
    "from sklearn.ensemble import RandomForestClassifier\n",
    "from sklearn.ensemble import GradientBoostingClassifier\n",
    "from sklearn.naive_bayes import MultinomialNB\n",
    "from sklearn.neural_network import MLPClassifier\n",
    "from sklearn.neighbors import KNeighborsClassifier\n",
    "from sklearn.model_selection import LeaveOneOut\n",
    "from sklearn.metrics import accuracy_score\n",
    "from time import time"
   ]
  },
  {
   "cell_type": "code",
   "execution_count": 3,
   "metadata": {},
   "outputs": [],
   "source": [
    "transcriptions = pd.read_csv('data/transcriptions_with_sex.csv', sep=',')"
   ]
  },
  {
   "cell_type": "code",
   "execution_count": 5,
   "metadata": {},
   "outputs": [
    {
     "name": "stdout",
     "output_type": "stream",
     "text": [
      "Précision de LogisticRegression: 79.67% / Temps: 4.19s\n",
      "Précision de SVC: 80.08% / Temps: 2.97s\n",
      "Précision de RandomForestClassifier: 78.01% / Temps: 104.03s\n",
      "Précision de GradientBoostingClassifier: 78.42% / Temps: 511.11s\n",
      "Précision de MultinomialNB: 78.84% / Temps: 0.87s\n",
      "Précision de KNeighborsClassifier: 77.59% / Temps: 1.76s\n"
     ]
    }
   ],
   "source": [
    "for model_name in [\"LogisticRegression\", \"SVC\", \"RandomForestClassifier\", \"GradientBoostingClassifier\", \"MultinomialNB\", \"KNeighborsClassifier\"]:\n",
    "    start = time()\n",
    "\n",
    "    vectorizer = TfidfVectorizer()\n",
    "    X = vectorizer.fit_transform(transcriptions['prediction'])\n",
    "    y = transcriptions['sex']\n",
    "\n",
    "    loo = LeaveOneOut()\n",
    "\n",
    "    accuracies = []\n",
    "    for train_index, test_index in loo.split(X):\n",
    "        X_train, X_test = X[train_index], X[test_index]\n",
    "        y_train, y_test = y[train_index], y[test_index]\n",
    "        \n",
    "        model = eval(model_name)()\n",
    "        model.fit(X_train, y_train)\n",
    "        \n",
    "        y_pred = model.predict(X_test)\n",
    "        \n",
    "        accuracy = accuracy_score(y_test, y_pred)\n",
    "        accuracies.append(accuracy)\n",
    "\n",
    "    mean_accuracy = sum(accuracies) / len(accuracies)\n",
    "    print(f\"Précision de {model_name}: {round(100*mean_accuracy,2)}% / Temps: {round(time() - start,2)}s\")\n"
   ]
  }
 ],
 "metadata": {
  "kernelspec": {
   "display_name": "base",
   "language": "python",
   "name": "python3"
  },
  "language_info": {
   "codemirror_mode": {
    "name": "ipython",
    "version": 3
   },
   "file_extension": ".py",
   "mimetype": "text/x-python",
   "name": "python",
   "nbconvert_exporter": "python",
   "pygments_lexer": "ipython3",
   "version": "3.11.4"
  }
 },
 "nbformat": 4,
 "nbformat_minor": 2
}
