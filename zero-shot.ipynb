{
 "cells": [
  {
   "cell_type": "code",
   "execution_count": 1,
   "id": "830ece55-4961-4fec-9ee0-f9eca08eae89",
   "metadata": {},
   "outputs": [],
   "source": [
    "## !pip install sentencepiece"
   ]
  },
  {
   "cell_type": "code",
   "execution_count": 8,
   "id": "fccfe3a2-f035-4c45-b420-d6f32f886054",
   "metadata": {},
   "outputs": [],
   "source": [
    "## !pip install sacremoses"
   ]
  },
  {
   "cell_type": "code",
   "execution_count": 1,
   "id": "947b3d5c-54a9-4f3e-bf01-66103598e550",
   "metadata": {},
   "outputs": [],
   "source": [
    "from transformers import AutoModelForSequenceClassification, AutoTokenizer\n",
    "import torch\n",
    "import pandas as pd\n",
    "from transformers import pipeline"
   ]
  },
  {
   "cell_type": "code",
   "execution_count": 17,
   "id": "be845186-58e6-40fc-a08d-de3e38b03121",
   "metadata": {},
   "outputs": [],
   "source": [
    "transcription_sex_df = pd.read_csv('data/transcriptions_with_sex.csv')"
   ]
  },
  {
   "cell_type": "code",
   "execution_count": 53,
   "id": "b008cec3-211f-40f8-85b7-bb8564916588",
   "metadata": {},
   "outputs": [],
   "source": [
    "def predict_sklearn(input_text, classifier):\n",
    "    class_labels = [\"masculin\", \"feminin\"]\n",
    "    result = classifier(input_text, candidate_labels=class_labels, hypothesis_template=\"Cette personne est de sexe {}.\")\n",
    "    predicted_label = result['labels'][0]\n",
    "    mapping = {'masculin': 'homme', 'feminin': 'femme'}\n",
    "    return mapping[predicted_label]"
   ]
  },
  {
   "cell_type": "code",
   "execution_count": 59,
   "id": "2aa6e2d3-f660-42f5-ba0a-7bd28d82661b",
   "metadata": {},
   "outputs": [
    {
     "name": "stderr",
     "output_type": "stream",
     "text": [
      "Some weights of BertForSequenceClassification were not initialized from the model checkpoint at bert-base-multilingual-cased and are newly initialized: ['classifier.bias', 'classifier.weight']\n",
      "You should probably TRAIN this model on a down-stream task to be able to use it for predictions and inference.\n",
      "Failed to determine 'entailment' label id from the label2id mapping in the model config. Setting to -1. Define a descriptive label2id mapping in the model config to ensure correct outputs.\n"
     ]
    },
    {
     "name": "stdout",
     "output_type": "stream",
     "text": [
      "La précision du zero-shot classification pour bert-base-multilingual-cased est de : 56.85 %\n"
     ]
    },
    {
     "name": "stderr",
     "output_type": "stream",
     "text": [
      "Some weights of FlaubertForSequenceClassification were not initialized from the model checkpoint at flaubert/flaubert_large_cased and are newly initialized: ['sequence_summary.summary.bias', 'sequence_summary.summary.weight']\n",
      "You should probably TRAIN this model on a down-stream task to be able to use it for predictions and inference.\n",
      "Failed to determine 'entailment' label id from the label2id mapping in the model config. Setting to -1. Define a descriptive label2id mapping in the model config to ensure correct outputs.\n"
     ]
    },
    {
     "name": "stdout",
     "output_type": "stream",
     "text": [
      "La précision du zero-shot classification pour flaubert/flaubert_large_cased est de : 48.55 %\n"
     ]
    },
    {
     "name": "stderr",
     "output_type": "stream",
     "text": [
      "Some weights of BartForSequenceClassification were not initialized from the model checkpoint at facebook/bart-large and are newly initialized: ['classification_head.dense.bias', 'classification_head.dense.weight', 'classification_head.out_proj.bias', 'classification_head.out_proj.weight']\n",
      "You should probably TRAIN this model on a down-stream task to be able to use it for predictions and inference.\n",
      "Failed to determine 'entailment' label id from the label2id mapping in the model config. Setting to -1. Define a descriptive label2id mapping in the model config to ensure correct outputs.\n"
     ]
    },
    {
     "name": "stdout",
     "output_type": "stream",
     "text": [
      "La précision du zero-shot classification pour facebook/bart-large est de : 45.64 %\n"
     ]
    },
    {
     "name": "stderr",
     "output_type": "stream",
     "text": [
      "Some weights of CamembertForSequenceClassification were not initialized from the model checkpoint at camembert/camembert-large and are newly initialized: ['classifier.dense.bias', 'classifier.dense.weight', 'classifier.out_proj.bias', 'classifier.out_proj.weight', 'roberta.embeddings.word_embeddings.weight']\n",
      "You should probably TRAIN this model on a down-stream task to be able to use it for predictions and inference.\n",
      "Failed to determine 'entailment' label id from the label2id mapping in the model config. Setting to -1. Define a descriptive label2id mapping in the model config to ensure correct outputs.\n",
      "Asking to truncate to max_length but no maximum length is provided and the model has no predefined maximum length. Default to no truncation.\n"
     ]
    },
    {
     "name": "stdout",
     "output_type": "stream",
     "text": [
      "La précision du zero-shot classification pour camembert/camembert-large est de : 50.62 %\n"
     ]
    },
    {
     "data": {
      "application/vnd.jupyter.widget-view+json": {
       "model_id": "2c677b3d8f1141188473acff9b08e99c",
       "version_major": 2,
       "version_minor": 0
      },
      "text/plain": [
       "config.json:   0%|          | 0.00/615 [00:00<?, ?B/s]"
      ]
     },
     "metadata": {},
     "output_type": "display_data"
    },
    {
     "data": {
      "application/vnd.jupyter.widget-view+json": {
       "model_id": "f2b209fb9fe14b70934492c88ce23def",
       "version_major": 2,
       "version_minor": 0
      },
      "text/plain": [
       "model.safetensors:   0%|          | 0.00/1.12G [00:00<?, ?B/s]"
      ]
     },
     "metadata": {},
     "output_type": "display_data"
    },
    {
     "name": "stderr",
     "output_type": "stream",
     "text": [
      "Some weights of XLMRobertaForSequenceClassification were not initialized from the model checkpoint at xlm-roberta-base and are newly initialized: ['classifier.dense.bias', 'classifier.dense.weight', 'classifier.out_proj.bias', 'classifier.out_proj.weight']\n",
      "You should probably TRAIN this model on a down-stream task to be able to use it for predictions and inference.\n"
     ]
    },
    {
     "data": {
      "application/vnd.jupyter.widget-view+json": {
       "model_id": "30c483f018324ee4a83dc504ce682089",
       "version_major": 2,
       "version_minor": 0
      },
      "text/plain": [
       "tokenizer_config.json:   0%|          | 0.00/25.0 [00:00<?, ?B/s]"
      ]
     },
     "metadata": {},
     "output_type": "display_data"
    },
    {
     "data": {
      "application/vnd.jupyter.widget-view+json": {
       "model_id": "529b6b986d0b49df8a0dcbbebe29aabd",
       "version_major": 2,
       "version_minor": 0
      },
      "text/plain": [
       "sentencepiece.bpe.model:   0%|          | 0.00/5.07M [00:00<?, ?B/s]"
      ]
     },
     "metadata": {},
     "output_type": "display_data"
    },
    {
     "data": {
      "application/vnd.jupyter.widget-view+json": {
       "model_id": "67d38cc46faa403d88e470544daaedec",
       "version_major": 2,
       "version_minor": 0
      },
      "text/plain": [
       "tokenizer.json:   0%|          | 0.00/9.10M [00:00<?, ?B/s]"
      ]
     },
     "metadata": {},
     "output_type": "display_data"
    },
    {
     "name": "stderr",
     "output_type": "stream",
     "text": [
      "Failed to determine 'entailment' label id from the label2id mapping in the model config. Setting to -1. Define a descriptive label2id mapping in the model config to ensure correct outputs.\n"
     ]
    },
    {
     "name": "stdout",
     "output_type": "stream",
     "text": [
      "La précision du zero-shot classification pour xlm-roberta-base est de : 50.21 %\n"
     ]
    }
   ],
   "source": [
    "models_to_test = [\n",
    "    \"bert-base-multilingual-cased\",\n",
    "    \"flaubert/flaubert_large_cased\",\n",
    "    \"facebook/bart-large\",\n",
    "    \"camembert/camembert-large\",\n",
    "    \"xlm-roberta-base\"\n",
    "]\n",
    "\n",
    "for model_name in models_to_test:\n",
    "    classifier = pipeline(\"zero-shot-classification\", model=model_name)\n",
    "    transcription_sex_df['prediction_sex'] = transcription_sex_df['prediction'].apply(predict_sklearn, classifier=classifier)\n",
    "    accuracy = sum(1 for x, y in zip(transcription_sex_df['prediction_sex'], transcription_sex_df['sex']) if x == y) / len(transcription_sex_df)\n",
    "    print(f\"La précision du zero-shot classification pour {model_name} est de : {round(100*accuracy,2)} %\")"
   ]
  }
 ],
 "metadata": {
  "kernelspec": {
   "display_name": "Python 3 (ipykernel)",
   "language": "python",
   "name": "python3"
  },
  "language_info": {
   "codemirror_mode": {
    "name": "ipython",
    "version": 3
   },
   "file_extension": ".py",
   "mimetype": "text/x-python",
   "name": "python",
   "nbconvert_exporter": "python",
   "pygments_lexer": "ipython3",
   "version": "3.11.4"
  }
 },
 "nbformat": 4,
 "nbformat_minor": 5
}
