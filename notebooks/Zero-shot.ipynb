{
 "cells": [
  {
   "cell_type": "code",
   "execution_count": 26,
   "id": "a49bb047-05b8-47de-9a1c-a8aa5bbf9dbd",
   "metadata": {},
   "outputs": [],
   "source": [
    "## !pip install transformers"
   ]
  },
  {
   "cell_type": "code",
   "execution_count": 1,
   "id": "947b3d5c-54a9-4f3e-bf01-66103598e550",
   "metadata": {},
   "outputs": [],
   "source": [
    "from transformers import AutoModelForSequenceClassification, AutoTokenizer\n",
    "import torch\n",
    "import pandas as pd\n",
    "from transformers import pipeline"
   ]
  },
  {
   "cell_type": "code",
   "execution_count": 41,
   "id": "830ece55-4961-4fec-9ee0-f9eca08eae89",
   "metadata": {},
   "outputs": [
    {
     "name": "stderr",
     "output_type": "stream",
     "text": [
      "huggingface/tokenizers: The current process just got forked, after parallelism has already been used. Disabling parallelism to avoid deadlocks...\n",
      "To disable this warning, you can either:\n",
      "\t- Avoid using `tokenizers` before the fork if possible\n",
      "\t- Explicitly set the environment variable TOKENIZERS_PARALLELISM=(true | false)\n"
     ]
    },
    {
     "name": "stdout",
     "output_type": "stream",
     "text": [
      "Collecting sentencepiece\n",
      "  Downloading sentencepiece-0.2.0-cp311-cp311-manylinux_2_17_x86_64.manylinux2014_x86_64.whl.metadata (7.7 kB)\n",
      "Downloading sentencepiece-0.2.0-cp311-cp311-manylinux_2_17_x86_64.manylinux2014_x86_64.whl (1.3 MB)\n",
      "\u001b[2K   \u001b[90m━━━━━━━━━━━━━━━━━━━━━━━━━━━━━━━━━━━━━━━━\u001b[0m \u001b[32m1.3/1.3 MB\u001b[0m \u001b[31m23.6 MB/s\u001b[0m eta \u001b[36m0:00:00\u001b[0ma \u001b[36m0:00:01\u001b[0m\n",
      "\u001b[?25hInstalling collected packages: sentencepiece\n",
      "Successfully installed sentencepiece-0.2.0\n"
     ]
    }
   ],
   "source": [
    "## !pip install sentencepiece"
   ]
  },
  {
   "cell_type": "code",
   "execution_count": 17,
   "id": "be845186-58e6-40fc-a08d-de3e38b03121",
   "metadata": {},
   "outputs": [],
   "source": [
    "transcription_sex_df = pd.read_csv('transcriptions_with_sex.csv')"
   ]
  },
  {
   "cell_type": "code",
   "execution_count": 52,
   "id": "4f78d255-ea56-42f3-8cf4-20fc9ad15dd8",
   "metadata": {},
   "outputs": [
    {
     "name": "stderr",
     "output_type": "stream",
     "text": [
      "Some weights of BertForSequenceClassification were not initialized from the model checkpoint at bert-base-multilingual-cased and are newly initialized: ['classifier.bias', 'classifier.weight']\n",
      "You should probably TRAIN this model on a down-stream task to be able to use it for predictions and inference.\n",
      "Some weights of FlaubertForSequenceClassification were not initialized from the model checkpoint at flaubert/flaubert_large_cased and are newly initialized: ['sequence_summary.summary.bias', 'sequence_summary.summary.weight']\n",
      "You should probably TRAIN this model on a down-stream task to be able to use it for predictions and inference.\n",
      "Failed to determine 'entailment' label id from the label2id mapping in the model config. Setting to -1. Define a descriptive label2id mapping in the model config to ensure correct outputs.\n"
     ]
    }
   ],
   "source": [
    "model_name = \"bert-base-multilingual-cased\"\n",
    "model = AutoModelForSequenceClassification.from_pretrained(model_name, num_labels=2)  \n",
    "tokenizer = AutoTokenizer.from_pretrained(model_name)\n",
    "\n",
    "\n",
    "classifier = pipeline(\"zero-shot-classification\", model=\"flaubert/flaubert_large_cased\")"
   ]
  },
  {
   "cell_type": "code",
   "execution_count": 24,
   "id": "9e1a71fe-6958-4607-9d8f-21f0159c152c",
   "metadata": {},
   "outputs": [],
   "source": [
    "def predict(input_text):\n",
    "    class_labels = [\"homme\", \"femme\",]\n",
    "    prompt = f\"La personne décrite par : '{input_text}',  est de sexe : {', '.join(class_labels)}.\"\n",
    "    input_ids = tokenizer(prompt, return_tensors=\"pt\")[\"input_ids\"]\n",
    "    \n",
    "    with torch.no_grad():\n",
    "        logits = model(input_ids).logits\n",
    "    probabilities = torch.softmax(logits, dim=-1).squeeze()\n",
    "    return probabilities, class_labels"
   ]
  },
  {
   "cell_type": "code",
   "execution_count": null,
   "id": "d1db1f21-8bed-44ed-ad91-eec89f2bcf1b",
   "metadata": {},
   "outputs": [],
   "source": [
    "def predict_gender(row):\n",
    "    probabilities, class_labels = predict(row['prediction'])\n",
    "    return class_labels[torch.argmax(probabilities)]"
   ]
  },
  {
   "cell_type": "code",
   "execution_count": null,
   "id": "a30939f7-4eb0-46a6-b725-cb09905c6d71",
   "metadata": {},
   "outputs": [],
   "source": [
    "transcription_sex_df['prediction_sex'] = transcription_sex_df.apply(predict_gender, axis=1)"
   ]
  },
  {
   "cell_type": "code",
   "execution_count": 53,
   "id": "b008cec3-211f-40f8-85b7-bb8564916588",
   "metadata": {},
   "outputs": [],
   "source": [
    "def predict_sklearn(input_text, classifier):\n",
    "    class_labels = [\"masculin\", \"feminin\"]\n",
    "    result = classifier(input_text, candidate_labels=class_labels, hypothesis_template=\"Cette personne est de sexe {}.\")\n",
    "    predicted_label = result['labels'][0]\n",
    "    mapping = {'masculin': 'homme', 'feminin': 'femme'}\n",
    "    return mapping[predicted_label]"
   ]
  },
  {
   "cell_type": "code",
   "execution_count": 56,
   "id": "65ebb176-ddb0-4809-a644-b7e932e26c1f",
   "metadata": {},
   "outputs": [],
   "source": [
    "transcription_sex_df['prediction_sex'] = transcription_sex_df['prediction'].apply(predict_sklearn, classifier=classifier)"
   ]
  },
  {
   "cell_type": "code",
   "execution_count": 49,
   "id": "05f51dc1-b5c8-4c4c-a4a3-e92f6c8b4364",
   "metadata": {},
   "outputs": [
    {
     "name": "stdout",
     "output_type": "stream",
     "text": [
      "La précision du zero-shot classification est de : 51.04 %\n"
     ]
    }
   ],
   "source": [
    "accuracy = sum(1 for x, y in zip(transcription_sex_df['prediction_sex'], transcription_sex_df['sex']) if x == y) / len(transcription_sex_df)\n",
    "\n",
    "print(f\"La précision du zero-shot classification est de : {round(100*accuracy,2)} %\")"
   ]
  },
  {
   "cell_type": "code",
   "execution_count": 59,
   "id": "2aa6e2d3-f660-42f5-ba0a-7bd28d82661b",
   "metadata": {},
   "outputs": [
    {
     "name": "stderr",
     "output_type": "stream",
     "text": [
      "Some weights of BertForSequenceClassification were not initialized from the model checkpoint at bert-base-multilingual-cased and are newly initialized: ['classifier.bias', 'classifier.weight']\n",
      "You should probably TRAIN this model on a down-stream task to be able to use it for predictions and inference.\n",
      "Failed to determine 'entailment' label id from the label2id mapping in the model config. Setting to -1. Define a descriptive label2id mapping in the model config to ensure correct outputs.\n"
     ]
    },
    {
     "name": "stdout",
     "output_type": "stream",
     "text": [
      "La précision du zero-shot classification pour bert-base-multilingual-cased est de : 56.85 %\n"
     ]
    },
    {
     "name": "stderr",
     "output_type": "stream",
     "text": [
      "Some weights of FlaubertForSequenceClassification were not initialized from the model checkpoint at flaubert/flaubert_large_cased and are newly initialized: ['sequence_summary.summary.bias', 'sequence_summary.summary.weight']\n",
      "You should probably TRAIN this model on a down-stream task to be able to use it for predictions and inference.\n",
      "Failed to determine 'entailment' label id from the label2id mapping in the model config. Setting to -1. Define a descriptive label2id mapping in the model config to ensure correct outputs.\n"
     ]
    },
    {
     "name": "stdout",
     "output_type": "stream",
     "text": [
      "La précision du zero-shot classification pour flaubert/flaubert_large_cased est de : 48.55 %\n"
     ]
    },
    {
     "name": "stderr",
     "output_type": "stream",
     "text": [
      "Some weights of BartForSequenceClassification were not initialized from the model checkpoint at facebook/bart-large and are newly initialized: ['classification_head.dense.bias', 'classification_head.dense.weight', 'classification_head.out_proj.bias', 'classification_head.out_proj.weight']\n",
      "You should probably TRAIN this model on a down-stream task to be able to use it for predictions and inference.\n",
      "Failed to determine 'entailment' label id from the label2id mapping in the model config. Setting to -1. Define a descriptive label2id mapping in the model config to ensure correct outputs.\n"
     ]
    },
    {
     "name": "stdout",
     "output_type": "stream",
     "text": [
      "La précision du zero-shot classification pour facebook/bart-large est de : 45.64 %\n"
     ]
    },
    {
     "name": "stderr",
     "output_type": "stream",
     "text": [
      "Some weights of CamembertForSequenceClassification were not initialized from the model checkpoint at camembert/camembert-large and are newly initialized: ['classifier.dense.bias', 'classifier.dense.weight', 'classifier.out_proj.bias', 'classifier.out_proj.weight', 'roberta.embeddings.word_embeddings.weight']\n",
      "You should probably TRAIN this model on a down-stream task to be able to use it for predictions and inference.\n",
      "Failed to determine 'entailment' label id from the label2id mapping in the model config. Setting to -1. Define a descriptive label2id mapping in the model config to ensure correct outputs.\n",
      "Asking to truncate to max_length but no maximum length is provided and the model has no predefined maximum length. Default to no truncation.\n"
     ]
    },
    {
     "name": "stdout",
     "output_type": "stream",
     "text": [
      "La précision du zero-shot classification pour camembert/camembert-large est de : 50.62 %\n"
     ]
    },
    {
     "data": {
      "application/vnd.jupyter.widget-view+json": {
       "model_id": "2c677b3d8f1141188473acff9b08e99c",
       "version_major": 2,
       "version_minor": 0
      },
      "text/plain": [
       "config.json:   0%|          | 0.00/615 [00:00<?, ?B/s]"
      ]
     },
     "metadata": {},
     "output_type": "display_data"
    },
    {
     "data": {
      "application/vnd.jupyter.widget-view+json": {
       "model_id": "f2b209fb9fe14b70934492c88ce23def",
       "version_major": 2,
       "version_minor": 0
      },
      "text/plain": [
       "model.safetensors:   0%|          | 0.00/1.12G [00:00<?, ?B/s]"
      ]
     },
     "metadata": {},
     "output_type": "display_data"
    },
    {
     "name": "stderr",
     "output_type": "stream",
     "text": [
      "Some weights of XLMRobertaForSequenceClassification were not initialized from the model checkpoint at xlm-roberta-base and are newly initialized: ['classifier.dense.bias', 'classifier.dense.weight', 'classifier.out_proj.bias', 'classifier.out_proj.weight']\n",
      "You should probably TRAIN this model on a down-stream task to be able to use it for predictions and inference.\n"
     ]
    },
    {
     "data": {
      "application/vnd.jupyter.widget-view+json": {
       "model_id": "30c483f018324ee4a83dc504ce682089",
       "version_major": 2,
       "version_minor": 0
      },
      "text/plain": [
       "tokenizer_config.json:   0%|          | 0.00/25.0 [00:00<?, ?B/s]"
      ]
     },
     "metadata": {},
     "output_type": "display_data"
    },
    {
     "data": {
      "application/vnd.jupyter.widget-view+json": {
       "model_id": "529b6b986d0b49df8a0dcbbebe29aabd",
       "version_major": 2,
       "version_minor": 0
      },
      "text/plain": [
       "sentencepiece.bpe.model:   0%|          | 0.00/5.07M [00:00<?, ?B/s]"
      ]
     },
     "metadata": {},
     "output_type": "display_data"
    },
    {
     "data": {
      "application/vnd.jupyter.widget-view+json": {
       "model_id": "67d38cc46faa403d88e470544daaedec",
       "version_major": 2,
       "version_minor": 0
      },
      "text/plain": [
       "tokenizer.json:   0%|          | 0.00/9.10M [00:00<?, ?B/s]"
      ]
     },
     "metadata": {},
     "output_type": "display_data"
    },
    {
     "name": "stderr",
     "output_type": "stream",
     "text": [
      "Failed to determine 'entailment' label id from the label2id mapping in the model config. Setting to -1. Define a descriptive label2id mapping in the model config to ensure correct outputs.\n"
     ]
    },
    {
     "name": "stdout",
     "output_type": "stream",
     "text": [
      "La précision du zero-shot classification pour xlm-roberta-base est de : 50.21 %\n"
     ]
    }
   ],
   "source": [
    "models_to_test = [\n",
    "    \"bert-base-multilingual-cased\",\n",
    "    \"flaubert/flaubert_large_cased\",\n",
    "    \"facebook/bart-large\",\n",
    "    \"camembert/camembert-large\",\n",
    "    \"xlm-roberta-base\"\n",
    "]\n",
    "\n",
    "for model_name in models_to_test:\n",
    "    classifier = pipeline(\"zero-shot-classification\", model=model_name)\n",
    "    transcription_sex_df['prediction_sex'] = transcription_sex_df['prediction'].apply(predict_sklearn, classifier=classifier)\n",
    "    accuracy = sum(1 for x, y in zip(transcription_sex_df['prediction_sex'], transcription_sex_df['sex']) if x == y) / len(transcription_sex_df)\n",
    "    print(f\"La précision du zero-shot classification pour {model_name} est de : {round(100*accuracy,2)} %\")"
   ]
  },
  {
   "cell_type": "code",
   "execution_count": null,
   "id": "8dffc9ec-265d-478a-80ba-b41df3de7b0b",
   "metadata": {},
   "outputs": [],
   "source": []
  },
  {
   "cell_type": "code",
   "execution_count": 7,
   "id": "360ecb08-f205-4cce-bc99-b462f7435289",
   "metadata": {},
   "outputs": [
    {
     "name": "stderr",
     "output_type": "stream",
     "text": [
      "Some weights of FlaubertForSequenceClassification were not initialized from the model checkpoint at flaubert/flaubert_large_cased and are newly initialized: ['sequence_summary.summary.bias', 'sequence_summary.summary.weight']\n",
      "You should probably TRAIN this model on a down-stream task to be able to use it for predictions and inference.\n",
      "Failed to determine 'entailment' label id from the label2id mapping in the model config. Setting to -1. Define a descriptive label2id mapping in the model config to ensure correct outputs.\n"
     ]
    },
    {
     "name": "stdout",
     "output_type": "stream",
     "text": [
      "Précision du modèle: 0.6077586206896551\n",
      "              precision    recall  f1-score   support\n",
      "\n",
      "    masculin       0.58      0.57      0.57       107\n",
      "     feminin       0.63      0.64      0.64       125\n",
      "\n",
      "    accuracy                           0.61       232\n",
      "   macro avg       0.61      0.61      0.61       232\n",
      "weighted avg       0.61      0.61      0.61       232\n",
      "\n"
     ]
    },
    {
     "name": "stderr",
     "output_type": "stream",
     "text": [
      "/tmp/ipykernel_1016/1227537491.py:25: SettingWithCopyWarning: \n",
      "A value is trying to be set on a copy of a slice from a DataFrame.\n",
      "Try using .loc[row_indexer,col_indexer] = value instead\n",
      "\n",
      "See the caveats in the documentation: https://pandas.pydata.org/pandas-docs/stable/user_guide/indexing.html#returning-a-view-versus-a-copy\n",
      "  transcription_sex_filtered['predicted_sex_mapped'] = transcription_sex_filtered['predicted_sex'].map(label_mapping)\n"
     ]
    }
   ],
   "source": [
    "from transformers import pipeline\n",
    "from sklearn.metrics import accuracy_score, classification_report\n",
    "\n",
    "classifier = pipeline(\"zero-shot-classification\", model=\"flaubert/flaubert_large_cased\")\n",
    "\n",
    "labels =  [\"masculin\", \"feminin\"]\n",
    "\n",
    "predicted_sexes = []\n",
    "for text in transcription_sex_df['prediction']:\n",
    "    # Effectuer la classification\n",
    "    result = classifier(text, candidate_labels=labels, hypothesis_template=\"Cette personne est de sexe {}.\")\n",
    "    predicted_label = result['labels'][0]    \n",
    "    predicted_sexes.append(predicted_label)\n",
    "\n",
    "transcription_sex_df['predicted_sex'] = predicted_sexes\n",
    "\n",
    "label_mapping = {\n",
    "    'masculin': 'homme',\n",
    "    'feminin': 'femme'\n",
    "}\n",
    "\n",
    "transcription_sex_filtered = transcription_sex_df[transcription_sex_df['sex'] != 'ambigu']\n",
    "\n",
    "# Appliquer le mapping pour harmoniser les labels prédits avec les labels originaux\n",
    "transcription_sex_filtered['predicted_sex_mapped'] = transcription_sex_filtered['predicted_sex'].map(label_mapping)\n",
    "\n",
    "accuracy = accuracy_score(transcription_sex_filtered['sex'], transcription_sex_filtered['predicted_sex_mapped'])\n",
    "print(f\"Précision du modèle: {accuracy}\")\n",
    "print(classification_report(transcription_sex_filtered['sex'], transcription_sex_filtered['predicted_sex_mapped'], target_names=[\"masculin\", \"feminin\"]))"
   ]
  },
  {
   "cell_type": "code",
   "execution_count": 8,
   "id": "fccfe3a2-f035-4c45-b420-d6f32f886054",
   "metadata": {},
   "outputs": [],
   "source": [
    "## !pip install sacremoses"
   ]
  },
  {
   "cell_type": "code",
   "execution_count": null,
   "id": "3fa9747f-0f8f-4c55-ae09-d75036f7d24c",
   "metadata": {},
   "outputs": [],
   "source": []
  },
  {
   "cell_type": "code",
   "execution_count": 10,
   "id": "acf1e0ec-74ba-4793-aa8f-5d1b3b10ffbd",
   "metadata": {},
   "outputs": [
    {
     "name": "stdout",
     "output_type": "stream",
     "text": [
      "Évaluation du modèle: bert-base-multilingual-cased\n"
     ]
    },
    {
     "name": "stderr",
     "output_type": "stream",
     "text": [
      "Some weights of BertForSequenceClassification were not initialized from the model checkpoint at bert-base-multilingual-cased and are newly initialized: ['classifier.bias', 'classifier.weight']\n",
      "You should probably TRAIN this model on a down-stream task to be able to use it for predictions and inference.\n",
      "Failed to determine 'entailment' label id from the label2id mapping in the model config. Setting to -1. Define a descriptive label2id mapping in the model config to ensure correct outputs.\n",
      "/tmp/ipykernel_1016/1060279470.py:45: SettingWithCopyWarning: \n",
      "A value is trying to be set on a copy of a slice from a DataFrame.\n",
      "Try using .loc[row_indexer,col_indexer] = value instead\n",
      "\n",
      "See the caveats in the documentation: https://pandas.pydata.org/pandas-docs/stable/user_guide/indexing.html#returning-a-view-versus-a-copy\n",
      "  transcription_sex_filtered['predicted_sex_mapped'] = transcription_sex_filtered['predicted_sex'].map(label_mapping)\n"
     ]
    },
    {
     "name": "stdout",
     "output_type": "stream",
     "text": [
      "Précision du modèle: 0.7069\n",
      "              precision    recall  f1-score   support\n",
      "\n",
      "       homme       0.71      0.62      0.66       107\n",
      "       femme       0.71      0.78      0.74       125\n",
      "\n",
      "    accuracy                           0.71       232\n",
      "   macro avg       0.71      0.70      0.70       232\n",
      "weighted avg       0.71      0.71      0.70       232\n",
      "\n",
      "\n",
      "==================================================\n",
      "\n",
      "Évaluation du modèle: camembert/camembert-base\n"
     ]
    },
    {
     "name": "stderr",
     "output_type": "stream",
     "text": [
      "Some weights of CamembertForSequenceClassification were not initialized from the model checkpoint at camembert/camembert-base and are newly initialized: ['classifier.dense.bias', 'classifier.dense.weight', 'classifier.out_proj.bias', 'classifier.out_proj.weight']\n",
      "You should probably TRAIN this model on a down-stream task to be able to use it for predictions and inference.\n",
      "Failed to determine 'entailment' label id from the label2id mapping in the model config. Setting to -1. Define a descriptive label2id mapping in the model config to ensure correct outputs.\n",
      "Asking to truncate to max_length but no maximum length is provided and the model has no predefined maximum length. Default to no truncation.\n",
      "/tmp/ipykernel_1016/1060279470.py:45: SettingWithCopyWarning: \n",
      "A value is trying to be set on a copy of a slice from a DataFrame.\n",
      "Try using .loc[row_indexer,col_indexer] = value instead\n",
      "\n",
      "See the caveats in the documentation: https://pandas.pydata.org/pandas-docs/stable/user_guide/indexing.html#returning-a-view-versus-a-copy\n",
      "  transcription_sex_filtered['predicted_sex_mapped'] = transcription_sex_filtered['predicted_sex'].map(label_mapping)\n",
      "/opt/mamba/lib/python3.11/site-packages/sklearn/metrics/_classification.py:1509: UndefinedMetricWarning: Precision is ill-defined and being set to 0.0 in labels with no predicted samples. Use `zero_division` parameter to control this behavior.\n",
      "  _warn_prf(average, modifier, f\"{metric.capitalize()} is\", len(result))\n",
      "/opt/mamba/lib/python3.11/site-packages/sklearn/metrics/_classification.py:1509: UndefinedMetricWarning: Precision is ill-defined and being set to 0.0 in labels with no predicted samples. Use `zero_division` parameter to control this behavior.\n",
      "  _warn_prf(average, modifier, f\"{metric.capitalize()} is\", len(result))\n",
      "/opt/mamba/lib/python3.11/site-packages/sklearn/metrics/_classification.py:1509: UndefinedMetricWarning: Precision is ill-defined and being set to 0.0 in labels with no predicted samples. Use `zero_division` parameter to control this behavior.\n",
      "  _warn_prf(average, modifier, f\"{metric.capitalize()} is\", len(result))\n"
     ]
    },
    {
     "name": "stdout",
     "output_type": "stream",
     "text": [
      "Précision du modèle: 0.5388\n",
      "              precision    recall  f1-score   support\n",
      "\n",
      "       homme       0.00      0.00      0.00       107\n",
      "       femme       0.54      1.00      0.70       125\n",
      "\n",
      "    accuracy                           0.54       232\n",
      "   macro avg       0.27      0.50      0.35       232\n",
      "weighted avg       0.29      0.54      0.38       232\n",
      "\n",
      "\n",
      "==================================================\n",
      "\n",
      "Évaluation du modèle: flaubert/flaubert_large_cased\n"
     ]
    },
    {
     "name": "stderr",
     "output_type": "stream",
     "text": [
      "Some weights of FlaubertForSequenceClassification were not initialized from the model checkpoint at flaubert/flaubert_large_cased and are newly initialized: ['sequence_summary.summary.bias', 'sequence_summary.summary.weight']\n",
      "You should probably TRAIN this model on a down-stream task to be able to use it for predictions and inference.\n",
      "Failed to determine 'entailment' label id from the label2id mapping in the model config. Setting to -1. Define a descriptive label2id mapping in the model config to ensure correct outputs.\n",
      "/tmp/ipykernel_1016/1060279470.py:45: SettingWithCopyWarning: \n",
      "A value is trying to be set on a copy of a slice from a DataFrame.\n",
      "Try using .loc[row_indexer,col_indexer] = value instead\n",
      "\n",
      "See the caveats in the documentation: https://pandas.pydata.org/pandas-docs/stable/user_guide/indexing.html#returning-a-view-versus-a-copy\n",
      "  transcription_sex_filtered['predicted_sex_mapped'] = transcription_sex_filtered['predicted_sex'].map(label_mapping)\n"
     ]
    },
    {
     "name": "stdout",
     "output_type": "stream",
     "text": [
      "Précision du modèle: 0.4612\n",
      "              precision    recall  f1-score   support\n",
      "\n",
      "       homme       0.45      0.81      0.58       107\n",
      "       femme       0.50      0.16      0.24       125\n",
      "\n",
      "    accuracy                           0.46       232\n",
      "   macro avg       0.48      0.49      0.41       232\n",
      "weighted avg       0.48      0.46      0.40       232\n",
      "\n",
      "\n",
      "==================================================\n",
      "\n",
      "Évaluation du modèle: facebook/bart-large\n"
     ]
    },
    {
     "name": "stderr",
     "output_type": "stream",
     "text": [
      "Some weights of BartForSequenceClassification were not initialized from the model checkpoint at facebook/bart-large and are newly initialized: ['classification_head.dense.bias', 'classification_head.dense.weight', 'classification_head.out_proj.bias', 'classification_head.out_proj.weight']\n",
      "You should probably TRAIN this model on a down-stream task to be able to use it for predictions and inference.\n",
      "Failed to determine 'entailment' label id from the label2id mapping in the model config. Setting to -1. Define a descriptive label2id mapping in the model config to ensure correct outputs.\n",
      "/tmp/ipykernel_1016/1060279470.py:45: SettingWithCopyWarning: \n",
      "A value is trying to be set on a copy of a slice from a DataFrame.\n",
      "Try using .loc[row_indexer,col_indexer] = value instead\n",
      "\n",
      "See the caveats in the documentation: https://pandas.pydata.org/pandas-docs/stable/user_guide/indexing.html#returning-a-view-versus-a-copy\n",
      "  transcription_sex_filtered['predicted_sex_mapped'] = transcription_sex_filtered['predicted_sex'].map(label_mapping)\n"
     ]
    },
    {
     "name": "stdout",
     "output_type": "stream",
     "text": [
      "Précision du modèle: 0.5431\n",
      "              precision    recall  f1-score   support\n",
      "\n",
      "       homme       0.57      0.04      0.07       107\n",
      "       femme       0.54      0.98      0.70       125\n",
      "\n",
      "    accuracy                           0.54       232\n",
      "   macro avg       0.56      0.51      0.38       232\n",
      "weighted avg       0.56      0.54      0.41       232\n",
      "\n",
      "\n",
      "==================================================\n",
      "\n",
      "Évaluation du modèle: camembert/camembert-large\n"
     ]
    },
    {
     "name": "stderr",
     "output_type": "stream",
     "text": [
      "Some weights of CamembertForSequenceClassification were not initialized from the model checkpoint at camembert/camembert-large and are newly initialized: ['classifier.dense.bias', 'classifier.dense.weight', 'classifier.out_proj.bias', 'classifier.out_proj.weight', 'roberta.embeddings.word_embeddings.weight']\n",
      "You should probably TRAIN this model on a down-stream task to be able to use it for predictions and inference.\n",
      "Failed to determine 'entailment' label id from the label2id mapping in the model config. Setting to -1. Define a descriptive label2id mapping in the model config to ensure correct outputs.\n",
      "Asking to truncate to max_length but no maximum length is provided and the model has no predefined maximum length. Default to no truncation.\n"
     ]
    },
    {
     "name": "stdout",
     "output_type": "stream",
     "text": [
      "Précision du modèle: 0.5302\n",
      "              precision    recall  f1-score   support\n",
      "\n",
      "       homme       0.49      0.79      0.61       107\n",
      "       femme       0.63      0.31      0.42       125\n",
      "\n",
      "    accuracy                           0.53       232\n",
      "   macro avg       0.56      0.55      0.51       232\n",
      "weighted avg       0.57      0.53      0.50       232\n",
      "\n",
      "\n",
      "==================================================\n",
      "\n"
     ]
    },
    {
     "name": "stderr",
     "output_type": "stream",
     "text": [
      "/tmp/ipykernel_1016/1060279470.py:45: SettingWithCopyWarning: \n",
      "A value is trying to be set on a copy of a slice from a DataFrame.\n",
      "Try using .loc[row_indexer,col_indexer] = value instead\n",
      "\n",
      "See the caveats in the documentation: https://pandas.pydata.org/pandas-docs/stable/user_guide/indexing.html#returning-a-view-versus-a-copy\n",
      "  transcription_sex_filtered['predicted_sex_mapped'] = transcription_sex_filtered['predicted_sex'].map(label_mapping)\n"
     ]
    }
   ],
   "source": [
    "from transformers import pipeline\n",
    "from sklearn.metrics import accuracy_score, classification_report\n",
    "import pandas as pd\n",
    "\n",
    "\n",
    "# Liste des modèles BERT à tester\n",
    "models_to_test = [\n",
    "    \"bert-base-multilingual-cased\",\n",
    "    \"camembert/camembert-base\",\n",
    "    \"flaubert/flaubert_large_cased\",\n",
    "    \"facebook/bart-large\",\n",
    "    \"camembert/camembert-large\"\n",
    "]\n",
    "\n",
    "# Labels pour la classification\n",
    "labels = [\"masculin\", \"feminin\"]\n",
    "\n",
    "# Mapping des labels prédits vers les labels originaux\n",
    "label_mapping = {\n",
    "    'masculin': 'homme',\n",
    "    'feminin': 'femme'\n",
    "}\n",
    "\n",
    "# Itérer sur chaque modèle\n",
    "for model_name in models_to_test:\n",
    "    print(f\"Évaluation du modèle: {model_name}\")\n",
    "\n",
    "    # Initialiser le pipeline de classification zero-shot\n",
    "    classifier = pipeline(\"zero-shot-classification\", model=model_name)\n",
    "\n",
    "    # Classifier les textes\n",
    "    predicted_sexes = []\n",
    "    for text in transcription_sex_df['prediction']:\n",
    "        result = classifier(text, candidate_labels=labels, hypothesis_template=\"Cette personne est de sexe {}.\")\n",
    "        predicted_label = result['labels'][0]\n",
    "        predicted_sexes.append(predicted_label)\n",
    "\n",
    "    # Ajouter les résultats au DataFrame\n",
    "    transcription_sex_df['predicted_sex'] = predicted_sexes\n",
    "\n",
    "    # Filtrer pour exclure les entrées 'ambigu'\n",
    "    transcription_sex_filtered = transcription_sex_df[transcription_sex_df['sex'] != 'ambigu']\n",
    "\n",
    "    # Appliquer le mapping des labels prédits\n",
    "    transcription_sex_filtered['predicted_sex_mapped'] = transcription_sex_filtered['predicted_sex'].map(label_mapping)\n",
    "\n",
    "    # Calculer la précision\n",
    "    accuracy = accuracy_score(transcription_sex_filtered['sex'], transcription_sex_filtered['predicted_sex_mapped'])\n",
    "\n",
    "    # Afficher les résultats\n",
    "    print(f\"Précision du modèle: {accuracy:.4f}\")\n",
    "    print(classification_report(transcription_sex_filtered['sex'], transcription_sex_filtered['predicted_sex_mapped'], target_names=list(label_mapping.values())))\n",
    "\n",
    "    # Pour la lisibilité des résultats\n",
    "    print(\"\\n\" + \"=\"*50 + \"\\n\")"
   ]
  },
  {
   "cell_type": "code",
   "execution_count": null,
   "id": "fc6c878d-6fe2-485e-bc61-236e19196fdb",
   "metadata": {},
   "outputs": [],
   "source": []
  }
 ],
 "metadata": {
  "kernelspec": {
   "display_name": "Python 3 (ipykernel)",
   "language": "python",
   "name": "python3"
  },
  "language_info": {
   "codemirror_mode": {
    "name": "ipython",
    "version": 3
   },
   "file_extension": ".py",
   "mimetype": "text/x-python",
   "name": "python",
   "nbconvert_exporter": "python",
   "pygments_lexer": "ipython3",
   "version": "3.11.6"
  }
 },
 "nbformat": 4,
 "nbformat_minor": 5
}
